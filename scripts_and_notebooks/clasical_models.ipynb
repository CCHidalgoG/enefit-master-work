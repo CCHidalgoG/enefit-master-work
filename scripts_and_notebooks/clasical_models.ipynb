{
 "cells": [
  {
   "cell_type": "code",
   "execution_count": 19,
   "id": "initial_id",
   "metadata": {
    "ExecuteTime": {
     "end_time": "2024-05-04T13:48:37.362425Z",
     "start_time": "2024-05-04T13:48:37.358609Z"
    },
    "collapsed": true,
    "jupyter": {
     "outputs_hidden": true
    }
   },
   "outputs": [],
   "source": [
    "import numpy as np\n",
    "import pandas as pd\n",
    "import seaborn as sns\n",
    "import matplotlib.pyplot as plt\n",
    "import warnings\n",
    "from statsmodels.tsa.stattools import adfuller\n",
    "from sklearn.model_selection import train_test_split\n",
    "from darts.models import AutoARIMA\n",
    "import darts\n",
    "from sklearn.metrics import mean_absolute_error as mae, mean_absolute_percentage_error as mape\n",
    "warnings.filterwarnings('ignore')"
   ]
  },
  {
   "cell_type": "code",
   "execution_count": 3,
   "id": "7c47948210dabea5",
   "metadata": {
    "ExecuteTime": {
     "end_time": "2024-05-04T13:32:50.631658Z",
     "start_time": "2024-05-04T13:32:50.624836Z"
    }
   },
   "outputs": [],
   "source": [
    "def load_data_comp_train():\n",
    "    train = pd.read_csv('../data/train.csv')\n",
    "    client = pd.read_csv('../data/client.csv')\n",
    "    electricity_prices = pd.read_csv('../data/electricity_prices.csv')\n",
    "    forecast_weather = pd.read_csv('../data/forecast_weather.csv')\n",
    "    gas_prices = pd.read_csv('../data/gas_prices.csv')\n",
    "    historical_weather = pd.read_csv('../data/historical_weather.csv')\n",
    "\n",
    "    return (train, client, electricity_prices, forecast_weather,\n",
    "            gas_prices, historical_weather)\n",
    "\n",
    "\n",
    "def load_data_comp_test():\n",
    "    test = pd.read_csv('../data/example_test_files/test.csv')\n",
    "    client_test = pd.read_csv('../data/example_test_files/client.csv')\n",
    "    electricity_prices_test = pd.read_csv('../data/example_test_files/electricity_prices.csv')\n",
    "    forecast_weather_test = pd.read_csv('../data/example_test_files/forecast_weather.csv')\n",
    "    gas_prices_test = pd.read_csv('../data/example_test_files/gas_prices.csv')\n",
    "    historical_weather_test = pd.read_csv('../data/historical_weather.csv')\n",
    "\n",
    "    return (test, client_test, electricity_prices_test, forecast_weather_test,\n",
    "            gas_prices_test, historical_weather_test)"
   ]
  },
  {
   "cell_type": "code",
   "execution_count": 4,
   "id": "3f0d9c2a68eb014d",
   "metadata": {
    "ExecuteTime": {
     "end_time": "2024-05-04T13:33:08.803871Z",
     "start_time": "2024-05-04T13:32:53.207024Z"
    }
   },
   "outputs": [],
   "source": [
    "train, client, electricity_prices, forecast_weather, gas_prices, historical_weather = load_data_comp_train()\n",
    "test, client_test, electricity_prices_test, forecast_weather_test, gas_prices_test, historical_weather_test = load_data_comp_test()"
   ]
  },
  {
   "cell_type": "markdown",
   "id": "e1bf057a252d6f23",
   "metadata": {},
   "source": [
    "# Autorregresive Models"
   ]
  },
  {
   "cell_type": "code",
   "execution_count": 5,
   "id": "72c5a7dca247bd00",
   "metadata": {
    "ExecuteTime": {
     "end_time": "2024-05-04T13:33:20.545010Z",
     "start_time": "2024-05-04T13:33:20.534339Z"
    }
   },
   "outputs": [
    {
     "data": {
      "text/html": [
       "<div>\n",
       "<style scoped>\n",
       "    .dataframe tbody tr th:only-of-type {\n",
       "        vertical-align: middle;\n",
       "    }\n",
       "\n",
       "    .dataframe tbody tr th {\n",
       "        vertical-align: top;\n",
       "    }\n",
       "\n",
       "    .dataframe thead th {\n",
       "        text-align: right;\n",
       "    }\n",
       "</style>\n",
       "<table border=\"1\" class=\"dataframe\">\n",
       "  <thead>\n",
       "    <tr style=\"text-align: right;\">\n",
       "      <th></th>\n",
       "      <th>county</th>\n",
       "      <th>is_business</th>\n",
       "      <th>product_type</th>\n",
       "      <th>target</th>\n",
       "      <th>is_consumption</th>\n",
       "      <th>datetime</th>\n",
       "      <th>data_block_id</th>\n",
       "      <th>row_id</th>\n",
       "      <th>prediction_unit_id</th>\n",
       "    </tr>\n",
       "  </thead>\n",
       "  <tbody>\n",
       "    <tr>\n",
       "      <th>0</th>\n",
       "      <td>0</td>\n",
       "      <td>0</td>\n",
       "      <td>1</td>\n",
       "      <td>0.713</td>\n",
       "      <td>0</td>\n",
       "      <td>2021-09-01 00:00:00</td>\n",
       "      <td>0</td>\n",
       "      <td>0</td>\n",
       "      <td>0</td>\n",
       "    </tr>\n",
       "    <tr>\n",
       "      <th>1</th>\n",
       "      <td>0</td>\n",
       "      <td>0</td>\n",
       "      <td>1</td>\n",
       "      <td>96.590</td>\n",
       "      <td>1</td>\n",
       "      <td>2021-09-01 00:00:00</td>\n",
       "      <td>0</td>\n",
       "      <td>1</td>\n",
       "      <td>0</td>\n",
       "    </tr>\n",
       "    <tr>\n",
       "      <th>2</th>\n",
       "      <td>0</td>\n",
       "      <td>0</td>\n",
       "      <td>2</td>\n",
       "      <td>0.000</td>\n",
       "      <td>0</td>\n",
       "      <td>2021-09-01 00:00:00</td>\n",
       "      <td>0</td>\n",
       "      <td>2</td>\n",
       "      <td>1</td>\n",
       "    </tr>\n",
       "    <tr>\n",
       "      <th>3</th>\n",
       "      <td>0</td>\n",
       "      <td>0</td>\n",
       "      <td>2</td>\n",
       "      <td>17.314</td>\n",
       "      <td>1</td>\n",
       "      <td>2021-09-01 00:00:00</td>\n",
       "      <td>0</td>\n",
       "      <td>3</td>\n",
       "      <td>1</td>\n",
       "    </tr>\n",
       "    <tr>\n",
       "      <th>4</th>\n",
       "      <td>0</td>\n",
       "      <td>0</td>\n",
       "      <td>3</td>\n",
       "      <td>2.904</td>\n",
       "      <td>0</td>\n",
       "      <td>2021-09-01 00:00:00</td>\n",
       "      <td>0</td>\n",
       "      <td>4</td>\n",
       "      <td>2</td>\n",
       "    </tr>\n",
       "  </tbody>\n",
       "</table>\n",
       "</div>"
      ],
      "text/plain": [
       "   county  is_business  product_type  target  is_consumption  \\\n",
       "0       0            0             1   0.713               0   \n",
       "1       0            0             1  96.590               1   \n",
       "2       0            0             2   0.000               0   \n",
       "3       0            0             2  17.314               1   \n",
       "4       0            0             3   2.904               0   \n",
       "\n",
       "              datetime  data_block_id  row_id  prediction_unit_id  \n",
       "0  2021-09-01 00:00:00              0       0                   0  \n",
       "1  2021-09-01 00:00:00              0       1                   0  \n",
       "2  2021-09-01 00:00:00              0       2                   1  \n",
       "3  2021-09-01 00:00:00              0       3                   1  \n",
       "4  2021-09-01 00:00:00              0       4                   2  "
      ]
     },
     "execution_count": 5,
     "metadata": {},
     "output_type": "execute_result"
    }
   ],
   "source": [
    "train.head()\n"
   ]
  },
  {
   "cell_type": "code",
   "execution_count": 6,
   "id": "26364194f3a6fdea",
   "metadata": {
    "ExecuteTime": {
     "end_time": "2024-05-04T13:33:22.179921Z",
     "start_time": "2024-05-04T13:33:22.176224Z"
    }
   },
   "outputs": [],
   "source": [
    "# Realizamos el análisis para los segmentos siempre activos\n",
    "activos = ['31', '51', '45', '8', '15', '35', '56', '20', '60', '50', '32', '6', '18', '55', '57', '4', '54', '42', '28', '33', '14', '1', '34', '39', '48', '3', '53', '29', '37', '16', '43', '5', '46', '58', '23', '24', '10', '7', '2', '36', '49', '27', '12', '30', '59', '19', '22', '52', '0', '11', '25', '9', '13', '38', '17', '40']"
   ]
  },
  {
   "cell_type": "code",
   "execution_count": 7,
   "id": "4f6c78f384e56a82",
   "metadata": {
    "ExecuteTime": {
     "end_time": "2024-05-04T13:33:24.854944Z",
     "start_time": "2024-05-04T13:33:23.847457Z"
    }
   },
   "outputs": [],
   "source": [
    "# Para cada county, is_business, product_type, is_consumption, datetime se hará un modelo de ts pata la variable target\n",
    "cols_to_model = ['county', 'is_business', 'product_type', 'is_consumption', 'datetime', 'target']\n",
    "cols_to_group = ['county', 'is_business', 'product_type', 'is_consumption']\n",
    "data_model = train.copy().loc[train.prediction_unit_id.astype(str).isin(activos)][cols_to_model]"
   ]
  },
  {
   "cell_type": "code",
   "execution_count": 8,
   "id": "38b4ef667d5d5f21",
   "metadata": {
    "ExecuteTime": {
     "end_time": "2024-05-04T13:33:34.876899Z",
     "start_time": "2024-05-04T13:33:34.750204Z"
    }
   },
   "outputs": [
    {
     "data": {
      "text/html": [
       "<div>\n",
       "<style scoped>\n",
       "    .dataframe tbody tr th:only-of-type {\n",
       "        vertical-align: middle;\n",
       "    }\n",
       "\n",
       "    .dataframe tbody tr th {\n",
       "        vertical-align: top;\n",
       "    }\n",
       "\n",
       "    .dataframe thead th {\n",
       "        text-align: right;\n",
       "    }\n",
       "</style>\n",
       "<table border=\"1\" class=\"dataframe\">\n",
       "  <thead>\n",
       "    <tr style=\"text-align: right;\">\n",
       "      <th></th>\n",
       "      <th>county</th>\n",
       "      <th>is_business</th>\n",
       "      <th>product_type</th>\n",
       "      <th>is_consumption</th>\n",
       "    </tr>\n",
       "  </thead>\n",
       "  <tbody>\n",
       "    <tr>\n",
       "      <th>0</th>\n",
       "      <td>0</td>\n",
       "      <td>0</td>\n",
       "      <td>1</td>\n",
       "      <td>0</td>\n",
       "    </tr>\n",
       "    <tr>\n",
       "      <th>1</th>\n",
       "      <td>0</td>\n",
       "      <td>0</td>\n",
       "      <td>1</td>\n",
       "      <td>1</td>\n",
       "    </tr>\n",
       "    <tr>\n",
       "      <th>2</th>\n",
       "      <td>0</td>\n",
       "      <td>0</td>\n",
       "      <td>2</td>\n",
       "      <td>0</td>\n",
       "    </tr>\n",
       "    <tr>\n",
       "      <th>3</th>\n",
       "      <td>0</td>\n",
       "      <td>0</td>\n",
       "      <td>2</td>\n",
       "      <td>1</td>\n",
       "    </tr>\n",
       "    <tr>\n",
       "      <th>4</th>\n",
       "      <td>0</td>\n",
       "      <td>0</td>\n",
       "      <td>3</td>\n",
       "      <td>0</td>\n",
       "    </tr>\n",
       "    <tr>\n",
       "      <th>...</th>\n",
       "      <td>...</td>\n",
       "      <td>...</td>\n",
       "      <td>...</td>\n",
       "      <td>...</td>\n",
       "    </tr>\n",
       "    <tr>\n",
       "      <th>117</th>\n",
       "      <td>15</td>\n",
       "      <td>0</td>\n",
       "      <td>3</td>\n",
       "      <td>1</td>\n",
       "    </tr>\n",
       "    <tr>\n",
       "      <th>118</th>\n",
       "      <td>15</td>\n",
       "      <td>1</td>\n",
       "      <td>1</td>\n",
       "      <td>0</td>\n",
       "    </tr>\n",
       "    <tr>\n",
       "      <th>119</th>\n",
       "      <td>15</td>\n",
       "      <td>1</td>\n",
       "      <td>1</td>\n",
       "      <td>1</td>\n",
       "    </tr>\n",
       "    <tr>\n",
       "      <th>120</th>\n",
       "      <td>15</td>\n",
       "      <td>1</td>\n",
       "      <td>3</td>\n",
       "      <td>0</td>\n",
       "    </tr>\n",
       "    <tr>\n",
       "      <th>121</th>\n",
       "      <td>15</td>\n",
       "      <td>1</td>\n",
       "      <td>3</td>\n",
       "      <td>1</td>\n",
       "    </tr>\n",
       "  </tbody>\n",
       "</table>\n",
       "<p>112 rows × 4 columns</p>\n",
       "</div>"
      ],
      "text/plain": [
       "     county  is_business  product_type  is_consumption\n",
       "0         0            0             1               0\n",
       "1         0            0             1               1\n",
       "2         0            0             2               0\n",
       "3         0            0             2               1\n",
       "4         0            0             3               0\n",
       "..      ...          ...           ...             ...\n",
       "117      15            0             3               1\n",
       "118      15            1             1               0\n",
       "119      15            1             1               1\n",
       "120      15            1             3               0\n",
       "121      15            1             3               1\n",
       "\n",
       "[112 rows x 4 columns]"
      ]
     },
     "execution_count": 8,
     "metadata": {},
     "output_type": "execute_result"
    }
   ],
   "source": [
    "unique_combinations = data_model[cols_to_group].drop_duplicates()\n",
    "unique_combinations"
   ]
  },
  {
   "cell_type": "markdown",
   "id": "7cf999a53d605036",
   "metadata": {},
   "source": [
    "# Primer modelo"
   ]
  },
  {
   "cell_type": "code",
   "execution_count": 8,
   "id": "f69a3784163ff745",
   "metadata": {
    "ExecuteTime": {
     "end_time": "2024-05-01T20:47:32.962438Z",
     "start_time": "2024-05-01T20:47:32.893891Z"
    }
   },
   "outputs": [],
   "source": [
    "df_exp = data_model.copy().loc[data_model[cols_to_group].eq(unique_combinations.iloc[0]).all(axis=1)]"
   ]
  },
  {
   "cell_type": "code",
   "execution_count": 116,
   "id": "fba67c9934e9d46b",
   "metadata": {
    "ExecuteTime": {
     "end_time": "2024-04-29T03:36:43.176496Z",
     "start_time": "2024-04-29T03:36:43.172655Z"
    }
   },
   "outputs": [],
   "source": [
    "# df_exp.reset_index(inplace=True)\n",
    "# df_exp.set_index('datetime', inplace=True)"
   ]
  },
  {
   "cell_type": "code",
   "execution_count": 9,
   "id": "25377e8ecf63be5c",
   "metadata": {
    "ExecuteTime": {
     "end_time": "2024-05-01T20:47:32.968780Z",
     "start_time": "2024-05-01T20:47:32.964152Z"
    }
   },
   "outputs": [],
   "source": [
    "results_ = pd.DataFrame(columns=['county', 'is_business', 'product_type', 'is_consumption', 'Model' , 'MAPE', 'MAE'])"
   ]
  },
  {
   "cell_type": "code",
   "execution_count": 10,
   "id": "d68373e837cedeb",
   "metadata": {
    "ExecuteTime": {
     "end_time": "2024-05-01T20:47:33.173060Z",
     "start_time": "2024-05-01T20:47:33.164869Z"
    }
   },
   "outputs": [
    {
     "data": {
      "text/html": [
       "<div>\n",
       "<style scoped>\n",
       "    .dataframe tbody tr th:only-of-type {\n",
       "        vertical-align: middle;\n",
       "    }\n",
       "\n",
       "    .dataframe tbody tr th {\n",
       "        vertical-align: top;\n",
       "    }\n",
       "\n",
       "    .dataframe thead th {\n",
       "        text-align: right;\n",
       "    }\n",
       "</style>\n",
       "<table border=\"1\" class=\"dataframe\">\n",
       "  <thead>\n",
       "    <tr style=\"text-align: right;\">\n",
       "      <th></th>\n",
       "      <th>county</th>\n",
       "      <th>is_business</th>\n",
       "      <th>product_type</th>\n",
       "      <th>is_consumption</th>\n",
       "      <th>datetime</th>\n",
       "      <th>target</th>\n",
       "    </tr>\n",
       "  </thead>\n",
       "  <tbody>\n",
       "    <tr>\n",
       "      <th>0</th>\n",
       "      <td>0</td>\n",
       "      <td>0</td>\n",
       "      <td>1</td>\n",
       "      <td>0</td>\n",
       "      <td>2021-09-01 00:00:00</td>\n",
       "      <td>0.713</td>\n",
       "    </tr>\n",
       "    <tr>\n",
       "      <th>122</th>\n",
       "      <td>0</td>\n",
       "      <td>0</td>\n",
       "      <td>1</td>\n",
       "      <td>0</td>\n",
       "      <td>2021-09-01 01:00:00</td>\n",
       "      <td>1.132</td>\n",
       "    </tr>\n",
       "    <tr>\n",
       "      <th>244</th>\n",
       "      <td>0</td>\n",
       "      <td>0</td>\n",
       "      <td>1</td>\n",
       "      <td>0</td>\n",
       "      <td>2021-09-01 02:00:00</td>\n",
       "      <td>0.490</td>\n",
       "    </tr>\n",
       "    <tr>\n",
       "      <th>366</th>\n",
       "      <td>0</td>\n",
       "      <td>0</td>\n",
       "      <td>1</td>\n",
       "      <td>0</td>\n",
       "      <td>2021-09-01 03:00:00</td>\n",
       "      <td>0.496</td>\n",
       "    </tr>\n",
       "    <tr>\n",
       "      <th>488</th>\n",
       "      <td>0</td>\n",
       "      <td>0</td>\n",
       "      <td>1</td>\n",
       "      <td>0</td>\n",
       "      <td>2021-09-01 04:00:00</td>\n",
       "      <td>0.149</td>\n",
       "    </tr>\n",
       "  </tbody>\n",
       "</table>\n",
       "</div>"
      ],
      "text/plain": [
       "     county  is_business  product_type  is_consumption             datetime  \\\n",
       "0         0            0             1               0  2021-09-01 00:00:00   \n",
       "122       0            0             1               0  2021-09-01 01:00:00   \n",
       "244       0            0             1               0  2021-09-01 02:00:00   \n",
       "366       0            0             1               0  2021-09-01 03:00:00   \n",
       "488       0            0             1               0  2021-09-01 04:00:00   \n",
       "\n",
       "     target  \n",
       "0     0.713  \n",
       "122   1.132  \n",
       "244   0.490  \n",
       "366   0.496  \n",
       "488   0.149  "
      ]
     },
     "execution_count": 10,
     "metadata": {},
     "output_type": "execute_result"
    }
   ],
   "source": [
    "df_exp.head()"
   ]
  },
  {
   "cell_type": "code",
   "execution_count": 11,
   "id": "6b4a6e98d30d6b34",
   "metadata": {
    "ExecuteTime": {
     "end_time": "2024-05-01T20:47:37.949836Z",
     "start_time": "2024-05-01T20:47:37.938344Z"
    }
   },
   "outputs": [],
   "source": [
    "df_exp['target'].interpolate(method='linear', inplace=True)"
   ]
  },
  {
   "cell_type": "code",
   "execution_count": 56,
   "id": "322047c32668b56a",
   "metadata": {
    "ExecuteTime": {
     "end_time": "2024-04-29T02:50:20.942338Z",
     "start_time": "2024-04-29T02:50:20.937702Z"
    }
   },
   "outputs": [],
   "source": [
    "train_size = int(0.75 * df_exp.shape[0])\n",
    "train_data_ext, test_data_ext = df_exp[:train_size], df_exp[train_size:]"
   ]
  },
  {
   "cell_type": "code",
   "execution_count": 57,
   "id": "4af86afd0498c86",
   "metadata": {
    "ExecuteTime": {
     "end_time": "2024-04-29T02:50:21.531818Z",
     "start_time": "2024-04-29T02:50:21.518824Z"
    }
   },
   "outputs": [],
   "source": [
    "ts_exp=darts.TimeSeries.from_dataframe(df=train_data_ext, value_cols='target' , time_col='datetime')"
   ]
  },
  {
   "cell_type": "code",
   "execution_count": 152,
   "id": "88c63b84f0619ae8",
   "metadata": {
    "ExecuteTime": {
     "end_time": "2024-04-30T02:50:19.050879Z",
     "start_time": "2024-04-30T02:50:19.047676Z"
    }
   },
   "outputs": [],
   "source": [
    "model = AutoARIMA()"
   ]
  },
  {
   "cell_type": "code",
   "execution_count": 153,
   "id": "94b55ebcf3ecfeae",
   "metadata": {
    "ExecuteTime": {
     "end_time": "2024-04-30T02:57:26.116359Z",
     "start_time": "2024-04-30T02:50:22.202119Z"
    }
   },
   "outputs": [
    {
     "data": {
      "text/plain": [
       "AutoARIMA(add_encoders=None)"
      ]
     },
     "execution_count": 153,
     "metadata": {},
     "output_type": "execute_result"
    }
   ],
   "source": [
    "model.fit(ts_exp)"
   ]
  },
  {
   "cell_type": "code",
   "execution_count": 154,
   "id": "241f903347c4c50f",
   "metadata": {
    "ExecuteTime": {
     "end_time": "2024-04-30T03:05:02.943967Z",
     "start_time": "2024-04-30T03:05:02.813448Z"
    }
   },
   "outputs": [
    {
     "data": {
      "text/html": [
       "<table class=\"simpletable\">\n",
       "<caption>SARIMAX Results</caption>\n",
       "<tr>\n",
       "  <th>Dep. Variable:</th>           <td>y</td>        <th>  No. Observations:  </th>    <td>11484</td>  \n",
       "</tr>\n",
       "<tr>\n",
       "  <th>Model:</th>           <td>SARIMAX(4, 1, 3)</td> <th>  Log Likelihood     </th> <td>-65758.066</td>\n",
       "</tr>\n",
       "<tr>\n",
       "  <th>Date:</th>            <td>Mon, 29 Apr 2024</td> <th>  AIC                </th> <td>131532.133</td>\n",
       "</tr>\n",
       "<tr>\n",
       "  <th>Time:</th>                <td>22:05:02</td>     <th>  BIC                </th> <td>131590.922</td>\n",
       "</tr>\n",
       "<tr>\n",
       "  <th>Sample:</th>                  <td>0</td>        <th>  HQIC               </th> <td>131551.896</td>\n",
       "</tr>\n",
       "<tr>\n",
       "  <th></th>                     <td> - 11484</td>     <th>                     </th>      <td> </td>    \n",
       "</tr>\n",
       "<tr>\n",
       "  <th>Covariance Type:</th>        <td>opg</td>       <th>                     </th>      <td> </td>    \n",
       "</tr>\n",
       "</table>\n",
       "<table class=\"simpletable\">\n",
       "<tr>\n",
       "     <td></td>       <th>coef</th>     <th>std err</th>      <th>z</th>      <th>P>|z|</th>  <th>[0.025</th>    <th>0.975]</th>  \n",
       "</tr>\n",
       "<tr>\n",
       "  <th>ar.L1</th>  <td>   -0.7569</td> <td>    0.030</td> <td>  -25.068</td> <td> 0.000</td> <td>   -0.816</td> <td>   -0.698</td>\n",
       "</tr>\n",
       "<tr>\n",
       "  <th>ar.L2</th>  <td>   -0.1904</td> <td>    0.037</td> <td>   -5.214</td> <td> 0.000</td> <td>   -0.262</td> <td>   -0.119</td>\n",
       "</tr>\n",
       "<tr>\n",
       "  <th>ar.L3</th>  <td>   -0.2841</td> <td>    0.024</td> <td>  -11.598</td> <td> 0.000</td> <td>   -0.332</td> <td>   -0.236</td>\n",
       "</tr>\n",
       "<tr>\n",
       "  <th>ar.L4</th>  <td>   -0.1303</td> <td>    0.012</td> <td>  -10.913</td> <td> 0.000</td> <td>   -0.154</td> <td>   -0.107</td>\n",
       "</tr>\n",
       "<tr>\n",
       "  <th>ma.L1</th>  <td>    0.9665</td> <td>    0.031</td> <td>   31.569</td> <td> 0.000</td> <td>    0.906</td> <td>    1.026</td>\n",
       "</tr>\n",
       "<tr>\n",
       "  <th>ma.L2</th>  <td>    0.5042</td> <td>    0.042</td> <td>   11.871</td> <td> 0.000</td> <td>    0.421</td> <td>    0.587</td>\n",
       "</tr>\n",
       "<tr>\n",
       "  <th>ma.L3</th>  <td>    0.3498</td> <td>    0.031</td> <td>   11.373</td> <td> 0.000</td> <td>    0.289</td> <td>    0.410</td>\n",
       "</tr>\n",
       "<tr>\n",
       "  <th>sigma2</th> <td> 5514.8308</td> <td>   37.257</td> <td>  148.020</td> <td> 0.000</td> <td> 5441.808</td> <td> 5587.854</td>\n",
       "</tr>\n",
       "</table>\n",
       "<table class=\"simpletable\">\n",
       "<tr>\n",
       "  <th>Ljung-Box (L1) (Q):</th>     <td>0.00</td> <th>  Jarque-Bera (JB):  </th> <td>21707.52</td>\n",
       "</tr>\n",
       "<tr>\n",
       "  <th>Prob(Q):</th>                <td>0.95</td> <th>  Prob(JB):          </th>   <td>0.00</td>  \n",
       "</tr>\n",
       "<tr>\n",
       "  <th>Heteroskedasticity (H):</th> <td>2.54</td> <th>  Skew:              </th>   <td>0.76</td>  \n",
       "</tr>\n",
       "<tr>\n",
       "  <th>Prob(H) (two-sided):</th>    <td>0.00</td> <th>  Kurtosis:          </th>   <td>9.56</td>  \n",
       "</tr>\n",
       "</table><br/><br/>Warnings:<br/>[1] Covariance matrix calculated using the outer product of gradients (complex-step)."
      ],
      "text/latex": [
       "\\begin{center}\n",
       "\\begin{tabular}{lclc}\n",
       "\\toprule\n",
       "\\textbf{Dep. Variable:}          &        y         & \\textbf{  No. Observations:  } &   11484     \\\\\n",
       "\\textbf{Model:}                  & SARIMAX(4, 1, 3) & \\textbf{  Log Likelihood     } & -65758.066  \\\\\n",
       "\\textbf{Date:}                   & Mon, 29 Apr 2024 & \\textbf{  AIC                } & 131532.133  \\\\\n",
       "\\textbf{Time:}                   &     22:05:02     & \\textbf{  BIC                } & 131590.922  \\\\\n",
       "\\textbf{Sample:}                 &        0         & \\textbf{  HQIC               } & 131551.896  \\\\\n",
       "\\textbf{}                        &      - 11484     & \\textbf{                     } &             \\\\\n",
       "\\textbf{Covariance Type:}        &       opg        & \\textbf{                     } &             \\\\\n",
       "\\bottomrule\n",
       "\\end{tabular}\n",
       "\\begin{tabular}{lcccccc}\n",
       "                & \\textbf{coef} & \\textbf{std err} & \\textbf{z} & \\textbf{P$> |$z$|$} & \\textbf{[0.025} & \\textbf{0.975]}  \\\\\n",
       "\\midrule\n",
       "\\textbf{ar.L1}  &      -0.7569  &        0.030     &   -25.068  &         0.000        &       -0.816    &       -0.698     \\\\\n",
       "\\textbf{ar.L2}  &      -0.1904  &        0.037     &    -5.214  &         0.000        &       -0.262    &       -0.119     \\\\\n",
       "\\textbf{ar.L3}  &      -0.2841  &        0.024     &   -11.598  &         0.000        &       -0.332    &       -0.236     \\\\\n",
       "\\textbf{ar.L4}  &      -0.1303  &        0.012     &   -10.913  &         0.000        &       -0.154    &       -0.107     \\\\\n",
       "\\textbf{ma.L1}  &       0.9665  &        0.031     &    31.569  &         0.000        &        0.906    &        1.026     \\\\\n",
       "\\textbf{ma.L2}  &       0.5042  &        0.042     &    11.871  &         0.000        &        0.421    &        0.587     \\\\\n",
       "\\textbf{ma.L3}  &       0.3498  &        0.031     &    11.373  &         0.000        &        0.289    &        0.410     \\\\\n",
       "\\textbf{sigma2} &    5514.8308  &       37.257     &   148.020  &         0.000        &     5441.808    &     5587.854     \\\\\n",
       "\\bottomrule\n",
       "\\end{tabular}\n",
       "\\begin{tabular}{lclc}\n",
       "\\textbf{Ljung-Box (L1) (Q):}     & 0.00 & \\textbf{  Jarque-Bera (JB):  } & 21707.52  \\\\\n",
       "\\textbf{Prob(Q):}                & 0.95 & \\textbf{  Prob(JB):          } &   0.00    \\\\\n",
       "\\textbf{Heteroskedasticity (H):} & 2.54 & \\textbf{  Skew:              } &   0.76    \\\\\n",
       "\\textbf{Prob(H) (two-sided):}    & 0.00 & \\textbf{  Kurtosis:          } &   9.56    \\\\\n",
       "\\bottomrule\n",
       "\\end{tabular}\n",
       "%\\caption{SARIMAX Results}\n",
       "\\end{center}\n",
       "\n",
       "Warnings: \\newline\n",
       " [1] Covariance matrix calculated using the outer product of gradients (complex-step)."
      ],
      "text/plain": [
       "<class 'statsmodels.iolib.summary.Summary'>\n",
       "\"\"\"\n",
       "                               SARIMAX Results                                \n",
       "==============================================================================\n",
       "Dep. Variable:                      y   No. Observations:                11484\n",
       "Model:               SARIMAX(4, 1, 3)   Log Likelihood              -65758.066\n",
       "Date:                Mon, 29 Apr 2024   AIC                         131532.133\n",
       "Time:                        22:05:02   BIC                         131590.922\n",
       "Sample:                             0   HQIC                        131551.896\n",
       "                              - 11484                                         \n",
       "Covariance Type:                  opg                                         \n",
       "==============================================================================\n",
       "                 coef    std err          z      P>|z|      [0.025      0.975]\n",
       "------------------------------------------------------------------------------\n",
       "ar.L1         -0.7569      0.030    -25.068      0.000      -0.816      -0.698\n",
       "ar.L2         -0.1904      0.037     -5.214      0.000      -0.262      -0.119\n",
       "ar.L3         -0.2841      0.024    -11.598      0.000      -0.332      -0.236\n",
       "ar.L4         -0.1303      0.012    -10.913      0.000      -0.154      -0.107\n",
       "ma.L1          0.9665      0.031     31.569      0.000       0.906       1.026\n",
       "ma.L2          0.5042      0.042     11.871      0.000       0.421       0.587\n",
       "ma.L3          0.3498      0.031     11.373      0.000       0.289       0.410\n",
       "sigma2      5514.8308     37.257    148.020      0.000    5441.808    5587.854\n",
       "===================================================================================\n",
       "Ljung-Box (L1) (Q):                   0.00   Jarque-Bera (JB):             21707.52\n",
       "Prob(Q):                              0.95   Prob(JB):                         0.00\n",
       "Heteroskedasticity (H):               2.54   Skew:                             0.76\n",
       "Prob(H) (two-sided):                  0.00   Kurtosis:                         9.56\n",
       "===================================================================================\n",
       "\n",
       "Warnings:\n",
       "[1] Covariance matrix calculated using the outer product of gradients (complex-step).\n",
       "\"\"\""
      ]
     },
     "execution_count": 154,
     "metadata": {},
     "output_type": "execute_result"
    }
   ],
   "source": [
    "model.model.summary()"
   ]
  },
  {
   "cell_type": "code",
   "execution_count": 61,
   "id": "7e7e37a6c979ccf4",
   "metadata": {
    "ExecuteTime": {
     "end_time": "2024-04-29T02:52:48.199763Z",
     "start_time": "2024-04-29T02:52:48.121809Z"
    }
   },
   "outputs": [],
   "source": [
    "forecast = model.predict(len(test_data_ext))"
   ]
  },
  {
   "cell_type": "code",
   "execution_count": 105,
   "id": "d9a73cd7e992f74e",
   "metadata": {
    "ExecuteTime": {
     "end_time": "2024-04-29T03:16:43.280143Z",
     "start_time": "2024-04-29T03:16:43.109281Z"
    }
   },
   "outputs": [
    {
     "name": "stdout",
     "output_type": "stream",
     "text": [
      "SARIMAX(5, 1, 0)\n",
      "MAPE: 30.497431306091933, MAE: 365.99685838409374\n"
     ]
    }
   ],
   "source": [
    "# metricas, mape, mae\n",
    "mape_value = mape(forecast.pd_dataframe()['target'].values, test_data_ext['target'].values)\n",
    "mae_value = mae(forecast.pd_dataframe()['target'].values, test_data_ext['target'].values)\n",
    "print(str(model.model.summary().tables[0][1][1]))\n",
    "print(f'MAPE: {mape_value}, MAE: {mae_value}')"
   ]
  },
  {
   "cell_type": "code",
   "execution_count": null,
   "id": "9b9ec3a7144fbe3c",
   "metadata": {},
   "outputs": [],
   "source": [
    "str(model.model.summary().tables[0][1][1])"
   ]
  },
  {
   "cell_type": "code",
   "execution_count": 112,
   "id": "9332ad4ca5a59133",
   "metadata": {
    "ExecuteTime": {
     "end_time": "2024-04-29T03:20:28.829342Z",
     "start_time": "2024-04-29T03:20:28.785172Z"
    }
   },
   "outputs": [],
   "source": [
    "pd_tm = pd.DataFrame({'county': unique_combinations.iloc[0]['county'],\n",
    "                      'is_business': unique_combinations.iloc[0]['is_business'], \n",
    "                      'product_type': unique_combinations.iloc[0]['product_type'], \n",
    "                      'is_consumption': unique_combinations.iloc[0]['is_consumption'], \n",
    "                      'Model': str(model.model.summary().tables[0][1][1]), \n",
    "                      'MAPE': mape_value, 'MAE': mae_value}, index=[0])"
   ]
  },
  {
   "cell_type": "code",
   "execution_count": 113,
   "id": "160069c1f62f6be2",
   "metadata": {
    "ExecuteTime": {
     "end_time": "2024-04-29T03:20:34.504210Z",
     "start_time": "2024-04-29T03:20:34.497811Z"
    }
   },
   "outputs": [],
   "source": [
    "results_ = pd.concat([results_, pd_tm], ignore_index=False)"
   ]
  },
  {
   "cell_type": "code",
   "execution_count": 114,
   "id": "3fe88ad0d2cc8f05",
   "metadata": {
    "ExecuteTime": {
     "end_time": "2024-04-29T03:20:42.246368Z",
     "start_time": "2024-04-29T03:20:42.237141Z"
    }
   },
   "outputs": [
    {
     "data": {
      "text/html": [
       "<div>\n",
       "<style scoped>\n",
       "    .dataframe tbody tr th:only-of-type {\n",
       "        vertical-align: middle;\n",
       "    }\n",
       "\n",
       "    .dataframe tbody tr th {\n",
       "        vertical-align: top;\n",
       "    }\n",
       "\n",
       "    .dataframe thead th {\n",
       "        text-align: right;\n",
       "    }\n",
       "</style>\n",
       "<table border=\"1\" class=\"dataframe\">\n",
       "  <thead>\n",
       "    <tr style=\"text-align: right;\">\n",
       "      <th></th>\n",
       "      <th>county</th>\n",
       "      <th>is_business</th>\n",
       "      <th>product_type</th>\n",
       "      <th>is_consumption</th>\n",
       "      <th>Model</th>\n",
       "      <th>MAPE</th>\n",
       "      <th>MAE</th>\n",
       "    </tr>\n",
       "  </thead>\n",
       "  <tbody>\n",
       "    <tr>\n",
       "      <th>0</th>\n",
       "      <td>0</td>\n",
       "      <td>0</td>\n",
       "      <td>1</td>\n",
       "      <td>0</td>\n",
       "      <td>SARIMAX(5, 1, 0)</td>\n",
       "      <td>30.497431</td>\n",
       "      <td>365.996858</td>\n",
       "    </tr>\n",
       "  </tbody>\n",
       "</table>\n",
       "</div>"
      ],
      "text/plain": [
       "  county is_business product_type is_consumption             Model       MAPE  \\\n",
       "0      0           0            1              0  SARIMAX(5, 1, 0)  30.497431   \n",
       "\n",
       "          MAE  \n",
       "0  365.996858  "
      ]
     },
     "execution_count": 114,
     "metadata": {},
     "output_type": "execute_result"
    }
   ],
   "source": [
    "results_"
   ]
  },
  {
   "cell_type": "markdown",
   "id": "423b1e74f3b668a9",
   "metadata": {},
   "source": [
    "# Iteración para todas las combinaciones"
   ]
  },
  {
   "cell_type": "code",
   "execution_count": 119,
   "id": "9dd2173f7221ae1c",
   "metadata": {
    "ExecuteTime": {
     "end_time": "2024-04-29T03:41:36.428951Z",
     "start_time": "2024-04-29T03:41:36.424718Z"
    }
   },
   "outputs": [],
   "source": [
    "results_ = pd.DataFrame(columns=['county', 'is_business', 'product_type', 'is_consumption', 'Model' , 'MAPE', 'MAE'])"
   ]
  },
  {
   "cell_type": "code",
   "execution_count": 120,
   "id": "2398b3824048c204",
   "metadata": {
    "ExecuteTime": {
     "end_time": "2024-04-29T11:05:27.361921Z",
     "start_time": "2024-04-29T03:41:37.863268Z"
    }
   },
   "outputs": [],
   "source": [
    "for row in range(unique_combinations.shape[0]):\n",
    "    df_exp = data_model.copy().loc[data_model[cols_to_group].eq(unique_combinations.iloc[row]).all(axis=1)]\n",
    "    df_exp['target'].interpolate(method='linear', inplace=True)\n",
    "    train_size = int(0.75 * df_exp.shape[0])\n",
    "    train_data_ext, test_data_ext = df_exp[:train_size], df_exp[train_size:]\n",
    "    ts_exp=darts.TimeSeries.from_dataframe(df=train_data_ext, value_cols='target' , time_col='datetime')\n",
    "    model = AutoARIMA()\n",
    "    model.fit(ts_exp)\n",
    "    forecast = model.predict(len(test_data_ext))\n",
    "    mape_value = mape(forecast.pd_dataframe()['target'].values, test_data_ext['target'].values)\n",
    "    mae_value = mae(forecast.pd_dataframe()['target'].values, test_data_ext['target'].values)\n",
    "    pd_tm = pd.DataFrame({'county': unique_combinations.iloc[row]['county'],\n",
    "                          'is_business': unique_combinations.iloc[row]['is_business'], \n",
    "                          'product_type': unique_combinations.iloc[row]['product_type'], \n",
    "                          'is_consumption': unique_combinations.iloc[row]['is_consumption'], \n",
    "                          'Model': str(model.model.summary().tables[0][1][1]), \n",
    "                          'MAPE': mape_value, 'MAE': mae_value}, index=[row])\n",
    "    results_ = pd.concat([results_, pd_tm], ignore_index=False)"
   ]
  },
  {
   "cell_type": "code",
   "execution_count": 132,
   "id": "5c446a08a83a71c7",
   "metadata": {
    "ExecuteTime": {
     "end_time": "2024-04-29T11:19:44.622757Z",
     "start_time": "2024-04-29T11:19:44.613739Z"
    }
   },
   "outputs": [
    {
     "data": {
      "text/html": [
       "<div>\n",
       "<style scoped>\n",
       "    .dataframe tbody tr th:only-of-type {\n",
       "        vertical-align: middle;\n",
       "    }\n",
       "\n",
       "    .dataframe tbody tr th {\n",
       "        vertical-align: top;\n",
       "    }\n",
       "\n",
       "    .dataframe thead th {\n",
       "        text-align: right;\n",
       "    }\n",
       "</style>\n",
       "<table border=\"1\" class=\"dataframe\">\n",
       "  <thead>\n",
       "    <tr style=\"text-align: right;\">\n",
       "      <th></th>\n",
       "      <th>county</th>\n",
       "      <th>is_business</th>\n",
       "      <th>product_type</th>\n",
       "      <th>is_consumption</th>\n",
       "      <th>Model</th>\n",
       "      <th>MAPE</th>\n",
       "      <th>MAE</th>\n",
       "    </tr>\n",
       "  </thead>\n",
       "  <tbody>\n",
       "    <tr>\n",
       "      <th>0</th>\n",
       "      <td>0</td>\n",
       "      <td>0</td>\n",
       "      <td>1</td>\n",
       "      <td>0</td>\n",
       "      <td>SARIMAX(5, 1, 0)</td>\n",
       "      <td>30.4974</td>\n",
       "      <td>365.9969</td>\n",
       "    </tr>\n",
       "    <tr>\n",
       "      <th>1</th>\n",
       "      <td>0</td>\n",
       "      <td>0</td>\n",
       "      <td>1</td>\n",
       "      <td>1</td>\n",
       "      <td>SARIMAX(3, 1, 2)</td>\n",
       "      <td>0.3299</td>\n",
       "      <td>263.7835</td>\n",
       "    </tr>\n",
       "    <tr>\n",
       "      <th>2</th>\n",
       "      <td>0</td>\n",
       "      <td>0</td>\n",
       "      <td>2</td>\n",
       "      <td>0</td>\n",
       "      <td>SARIMAX(5, 1, 0)</td>\n",
       "      <td>7.4103</td>\n",
       "      <td>4.6738</td>\n",
       "    </tr>\n",
       "    <tr>\n",
       "      <th>3</th>\n",
       "      <td>0</td>\n",
       "      <td>0</td>\n",
       "      <td>2</td>\n",
       "      <td>1</td>\n",
       "      <td>SARIMAX(5, 1, 3)</td>\n",
       "      <td>0.4758</td>\n",
       "      <td>16.0097</td>\n",
       "    </tr>\n",
       "    <tr>\n",
       "      <th>4</th>\n",
       "      <td>0</td>\n",
       "      <td>0</td>\n",
       "      <td>3</td>\n",
       "      <td>0</td>\n",
       "      <td>SARIMAX(5, 1, 0)</td>\n",
       "      <td>17.9910</td>\n",
       "      <td>1169.6682</td>\n",
       "    </tr>\n",
       "    <tr>\n",
       "      <th>...</th>\n",
       "      <td>...</td>\n",
       "      <td>...</td>\n",
       "      <td>...</td>\n",
       "      <td>...</td>\n",
       "      <td>...</td>\n",
       "      <td>...</td>\n",
       "      <td>...</td>\n",
       "    </tr>\n",
       "    <tr>\n",
       "      <th>107</th>\n",
       "      <td>15</td>\n",
       "      <td>0</td>\n",
       "      <td>3</td>\n",
       "      <td>1</td>\n",
       "      <td>SARIMAX(5, 1, 5)</td>\n",
       "      <td>0.3254</td>\n",
       "      <td>51.4981</td>\n",
       "    </tr>\n",
       "    <tr>\n",
       "      <th>108</th>\n",
       "      <td>15</td>\n",
       "      <td>1</td>\n",
       "      <td>1</td>\n",
       "      <td>0</td>\n",
       "      <td>SARIMAX(1, 1, 0)</td>\n",
       "      <td>9.2357</td>\n",
       "      <td>50.2766</td>\n",
       "    </tr>\n",
       "    <tr>\n",
       "      <th>109</th>\n",
       "      <td>15</td>\n",
       "      <td>1</td>\n",
       "      <td>1</td>\n",
       "      <td>1</td>\n",
       "      <td>SARIMAX(4, 1, 1)</td>\n",
       "      <td>0.9012</td>\n",
       "      <td>84.8166</td>\n",
       "    </tr>\n",
       "    <tr>\n",
       "      <th>110</th>\n",
       "      <td>15</td>\n",
       "      <td>1</td>\n",
       "      <td>3</td>\n",
       "      <td>0</td>\n",
       "      <td>SARIMAX(5, 1, 0)</td>\n",
       "      <td>21.5064</td>\n",
       "      <td>113.8193</td>\n",
       "    </tr>\n",
       "    <tr>\n",
       "      <th>111</th>\n",
       "      <td>15</td>\n",
       "      <td>1</td>\n",
       "      <td>3</td>\n",
       "      <td>1</td>\n",
       "      <td>SARIMAX(4, 1, 3)</td>\n",
       "      <td>0.4768</td>\n",
       "      <td>291.2532</td>\n",
       "    </tr>\n",
       "  </tbody>\n",
       "</table>\n",
       "<p>112 rows × 7 columns</p>\n",
       "</div>"
      ],
      "text/plain": [
       "    county is_business product_type is_consumption             Model    MAPE  \\\n",
       "0        0           0            1              0  SARIMAX(5, 1, 0) 30.4974   \n",
       "1        0           0            1              1  SARIMAX(3, 1, 2)  0.3299   \n",
       "2        0           0            2              0  SARIMAX(5, 1, 0)  7.4103   \n",
       "3        0           0            2              1  SARIMAX(5, 1, 3)  0.4758   \n",
       "4        0           0            3              0  SARIMAX(5, 1, 0) 17.9910   \n",
       "..     ...         ...          ...            ...               ...     ...   \n",
       "107     15           0            3              1  SARIMAX(5, 1, 5)  0.3254   \n",
       "108     15           1            1              0  SARIMAX(1, 1, 0)  9.2357   \n",
       "109     15           1            1              1  SARIMAX(4, 1, 1)  0.9012   \n",
       "110     15           1            3              0  SARIMAX(5, 1, 0) 21.5064   \n",
       "111     15           1            3              1  SARIMAX(4, 1, 3)  0.4768   \n",
       "\n",
       "          MAE  \n",
       "0    365.9969  \n",
       "1    263.7835  \n",
       "2      4.6738  \n",
       "3     16.0097  \n",
       "4   1169.6682  \n",
       "..        ...  \n",
       "107   51.4981  \n",
       "108   50.2766  \n",
       "109   84.8166  \n",
       "110  113.8193  \n",
       "111  291.2532  \n",
       "\n",
       "[112 rows x 7 columns]"
      ]
     },
     "execution_count": 132,
     "metadata": {},
     "output_type": "execute_result"
    }
   ],
   "source": [
    "results_"
   ]
  },
  {
   "cell_type": "code",
   "execution_count": 122,
   "id": "16dcdfcebb6a8c76",
   "metadata": {
    "ExecuteTime": {
     "end_time": "2024-04-29T11:05:27.398427Z",
     "start_time": "2024-04-29T11:05:27.385982Z"
    }
   },
   "outputs": [],
   "source": [
    "results_.to_csv('results_arima.csv', index=False)"
   ]
  },
  {
   "cell_type": "markdown",
   "id": "7e95cbdb0811cb83",
   "metadata": {},
   "source": [
    "#### MAPE & MAE By County"
   ]
  },
  {
   "cell_type": "code",
   "execution_count": 130,
   "id": "42da900454113822",
   "metadata": {
    "ExecuteTime": {
     "end_time": "2024-04-29T11:19:22.481642Z",
     "start_time": "2024-04-29T11:19:22.477182Z"
    }
   },
   "outputs": [],
   "source": [
    "# suppress scientific notation by setting float_format\n",
    "pd.options.display.float_format = '{:.4f}'.format"
   ]
  },
  {
   "cell_type": "code",
   "execution_count": 147,
   "id": "7787bf5ed44bd93c",
   "metadata": {
    "ExecuteTime": {
     "end_time": "2024-04-30T02:18:59.408450Z",
     "start_time": "2024-04-30T02:18:59.386919Z"
    }
   },
   "outputs": [
    {
     "data": {
      "text/html": [
       "<div>\n",
       "<style scoped>\n",
       "    .dataframe tbody tr th:only-of-type {\n",
       "        vertical-align: middle;\n",
       "    }\n",
       "\n",
       "    .dataframe tbody tr th {\n",
       "        vertical-align: top;\n",
       "    }\n",
       "\n",
       "    .dataframe thead th {\n",
       "        text-align: right;\n",
       "    }\n",
       "</style>\n",
       "<table border=\"1\" class=\"dataframe\">\n",
       "  <thead>\n",
       "    <tr style=\"text-align: right;\">\n",
       "      <th></th>\n",
       "      <th>MAPE</th>\n",
       "      <th>MAE</th>\n",
       "    </tr>\n",
       "    <tr>\n",
       "      <th>county</th>\n",
       "      <th></th>\n",
       "      <th></th>\n",
       "    </tr>\n",
       "  </thead>\n",
       "  <tbody>\n",
       "    <tr>\n",
       "      <th>12</th>\n",
       "      <td>33101478437973900.0000</td>\n",
       "      <td>115.2858</td>\n",
       "    </tr>\n",
       "    <tr>\n",
       "      <th>6</th>\n",
       "      <td>46.9750</td>\n",
       "      <td>67.7329</td>\n",
       "    </tr>\n",
       "    <tr>\n",
       "      <th>9</th>\n",
       "      <td>17.5159</td>\n",
       "      <td>66.9053</td>\n",
       "    </tr>\n",
       "    <tr>\n",
       "      <th>7</th>\n",
       "      <td>9.6499</td>\n",
       "      <td>149.8007</td>\n",
       "    </tr>\n",
       "    <tr>\n",
       "      <th>1</th>\n",
       "      <td>8.8309</td>\n",
       "      <td>29.1280</td>\n",
       "    </tr>\n",
       "    <tr>\n",
       "      <th>10</th>\n",
       "      <td>6.2832</td>\n",
       "      <td>78.9838</td>\n",
       "    </tr>\n",
       "    <tr>\n",
       "      <th>13</th>\n",
       "      <td>5.4847</td>\n",
       "      <td>65.9131</td>\n",
       "    </tr>\n",
       "    <tr>\n",
       "      <th>15</th>\n",
       "      <td>5.0685</td>\n",
       "      <td>68.1574</td>\n",
       "    </tr>\n",
       "    <tr>\n",
       "      <th>2</th>\n",
       "      <td>4.4575</td>\n",
       "      <td>59.5641</td>\n",
       "    </tr>\n",
       "    <tr>\n",
       "      <th>0</th>\n",
       "      <td>3.9430</td>\n",
       "      <td>441.3207</td>\n",
       "    </tr>\n",
       "    <tr>\n",
       "      <th>5</th>\n",
       "      <td>3.7663</td>\n",
       "      <td>77.1092</td>\n",
       "    </tr>\n",
       "    <tr>\n",
       "      <th>11</th>\n",
       "      <td>3.7414</td>\n",
       "      <td>322.6216</td>\n",
       "    </tr>\n",
       "    <tr>\n",
       "      <th>8</th>\n",
       "      <td>3.5596</td>\n",
       "      <td>61.9424</td>\n",
       "    </tr>\n",
       "    <tr>\n",
       "      <th>4</th>\n",
       "      <td>2.7978</td>\n",
       "      <td>75.3481</td>\n",
       "    </tr>\n",
       "    <tr>\n",
       "      <th>3</th>\n",
       "      <td>1.9572</td>\n",
       "      <td>48.4688</td>\n",
       "    </tr>\n",
       "    <tr>\n",
       "      <th>14</th>\n",
       "      <td>1.6564</td>\n",
       "      <td>84.9363</td>\n",
       "    </tr>\n",
       "  </tbody>\n",
       "</table>\n",
       "</div>"
      ],
      "text/plain": [
       "                         MAPE      MAE\n",
       "county                                \n",
       "12     33101478437973900.0000 115.2858\n",
       "6                     46.9750  67.7329\n",
       "9                     17.5159  66.9053\n",
       "7                      9.6499 149.8007\n",
       "1                      8.8309  29.1280\n",
       "10                     6.2832  78.9838\n",
       "13                     5.4847  65.9131\n",
       "15                     5.0685  68.1574\n",
       "2                      4.4575  59.5641\n",
       "0                      3.9430 441.3207\n",
       "5                      3.7663  77.1092\n",
       "11                     3.7414 322.6216\n",
       "8                      3.5596  61.9424\n",
       "4                      2.7978  75.3481\n",
       "3                      1.9572  48.4688\n",
       "14                     1.6564  84.9363"
      ]
     },
     "execution_count": 147,
     "metadata": {},
     "output_type": "execute_result"
    }
   ],
   "source": [
    "mp_cn = results_.groupby('county').agg({'MAPE': 'median', 'MAE': 'median'}).sort_values(by='MAPE', ascending=False)\n",
    "mp_cn"
   ]
  },
  {
   "cell_type": "markdown",
   "id": "ee2a34bb1d5045d4",
   "metadata": {},
   "source": [
    "#### MAPE & MAE By is_business"
   ]
  },
  {
   "cell_type": "code",
   "execution_count": 143,
   "id": "394d12f0ece001b",
   "metadata": {
    "ExecuteTime": {
     "end_time": "2024-04-30T00:17:05.961683Z",
     "start_time": "2024-04-30T00:17:05.889556Z"
    }
   },
   "outputs": [
    {
     "data": {
      "text/html": [
       "<div>\n",
       "<style scoped>\n",
       "    .dataframe tbody tr th:only-of-type {\n",
       "        vertical-align: middle;\n",
       "    }\n",
       "\n",
       "    .dataframe tbody tr th {\n",
       "        vertical-align: top;\n",
       "    }\n",
       "\n",
       "    .dataframe thead th {\n",
       "        text-align: right;\n",
       "    }\n",
       "</style>\n",
       "<table border=\"1\" class=\"dataframe\">\n",
       "  <thead>\n",
       "    <tr style=\"text-align: right;\">\n",
       "      <th></th>\n",
       "      <th>MAPE</th>\n",
       "      <th>MAE</th>\n",
       "    </tr>\n",
       "    <tr>\n",
       "      <th>is_business</th>\n",
       "      <th></th>\n",
       "      <th></th>\n",
       "    </tr>\n",
       "  </thead>\n",
       "  <tbody>\n",
       "    <tr>\n",
       "      <th>1</th>\n",
       "      <td>1182195658499123.2500</td>\n",
       "      <td>286.8944</td>\n",
       "    </tr>\n",
       "    <tr>\n",
       "      <th>0</th>\n",
       "      <td>10.1848</td>\n",
       "      <td>125.8681</td>\n",
       "    </tr>\n",
       "  </tbody>\n",
       "</table>\n",
       "</div>"
      ],
      "text/plain": [
       "                             MAPE      MAE\n",
       "is_business                               \n",
       "1           1182195658499123.2500 286.8944\n",
       "0                         10.1848 125.8681"
      ]
     },
     "execution_count": 143,
     "metadata": {},
     "output_type": "execute_result"
    }
   ],
   "source": [
    "results_.groupby('is_business').agg({'MAPE': 'mean', 'MAE': 'mean'}).sort_values(by='MAPE', ascending=False)"
   ]
  },
  {
   "cell_type": "markdown",
   "id": "fcb6aec277db50f",
   "metadata": {},
   "source": [
    "#### MAPE & MAE By product_type"
   ]
  },
  {
   "cell_type": "code",
   "execution_count": 144,
   "id": "9444caa8379814b9",
   "metadata": {
    "ExecuteTime": {
     "end_time": "2024-04-30T00:17:20.264215Z",
     "start_time": "2024-04-30T00:17:20.256173Z"
    }
   },
   "outputs": [
    {
     "data": {
      "text/html": [
       "<div>\n",
       "<style scoped>\n",
       "    .dataframe tbody tr th:only-of-type {\n",
       "        vertical-align: middle;\n",
       "    }\n",
       "\n",
       "    .dataframe tbody tr th {\n",
       "        vertical-align: top;\n",
       "    }\n",
       "\n",
       "    .dataframe thead th {\n",
       "        text-align: right;\n",
       "    }\n",
       "</style>\n",
       "<table border=\"1\" class=\"dataframe\">\n",
       "  <thead>\n",
       "    <tr style=\"text-align: right;\">\n",
       "      <th></th>\n",
       "      <th>MAPE</th>\n",
       "      <th>MAE</th>\n",
       "    </tr>\n",
       "    <tr>\n",
       "      <th>product_type</th>\n",
       "      <th></th>\n",
       "      <th></th>\n",
       "    </tr>\n",
       "  </thead>\n",
       "  <tbody>\n",
       "    <tr>\n",
       "      <th>3</th>\n",
       "      <td>1103382614599167.7500</td>\n",
       "      <td>305.9824</td>\n",
       "    </tr>\n",
       "    <tr>\n",
       "      <th>0</th>\n",
       "      <td>86.8778</td>\n",
       "      <td>201.7814</td>\n",
       "    </tr>\n",
       "    <tr>\n",
       "      <th>1</th>\n",
       "      <td>19.8005</td>\n",
       "      <td>80.0995</td>\n",
       "    </tr>\n",
       "    <tr>\n",
       "      <th>2</th>\n",
       "      <td>3.9430</td>\n",
       "      <td>10.3418</td>\n",
       "    </tr>\n",
       "  </tbody>\n",
       "</table>\n",
       "</div>"
      ],
      "text/plain": [
       "                              MAPE      MAE\n",
       "product_type                               \n",
       "3            1103382614599167.7500 305.9824\n",
       "0                          86.8778 201.7814\n",
       "1                          19.8005  80.0995\n",
       "2                           3.9430  10.3418"
      ]
     },
     "execution_count": 144,
     "metadata": {},
     "output_type": "execute_result"
    }
   ],
   "source": [
    "results_.groupby('product_type').agg({'MAPE': 'mean', 'MAE': 'mean'}).sort_values(by='MAPE', ascending=False)"
   ]
  },
  {
   "cell_type": "markdown",
   "id": "e3bfd4a7272e138f",
   "metadata": {},
   "source": [
    "#### MAPE & MAE By is_consumption"
   ]
  },
  {
   "cell_type": "code",
   "execution_count": 145,
   "id": "c67d30d33c3b8ccd",
   "metadata": {
    "ExecuteTime": {
     "end_time": "2024-04-30T00:17:33.420771Z",
     "start_time": "2024-04-30T00:17:33.409485Z"
    }
   },
   "outputs": [
    {
     "data": {
      "text/html": [
       "<div>\n",
       "<style scoped>\n",
       "    .dataframe tbody tr th:only-of-type {\n",
       "        vertical-align: middle;\n",
       "    }\n",
       "\n",
       "    .dataframe tbody tr th {\n",
       "        vertical-align: top;\n",
       "    }\n",
       "\n",
       "    .dataframe thead th {\n",
       "        text-align: right;\n",
       "    }\n",
       "</style>\n",
       "<table border=\"1\" class=\"dataframe\">\n",
       "  <thead>\n",
       "    <tr style=\"text-align: right;\">\n",
       "      <th></th>\n",
       "      <th>MAPE</th>\n",
       "      <th>MAE</th>\n",
       "    </tr>\n",
       "    <tr>\n",
       "      <th>is_consumption</th>\n",
       "      <th></th>\n",
       "      <th></th>\n",
       "    </tr>\n",
       "  </thead>\n",
       "  <tbody>\n",
       "    <tr>\n",
       "      <th>0</th>\n",
       "      <td>1182195658499132.7500</td>\n",
       "      <td>149.4250</td>\n",
       "    </tr>\n",
       "    <tr>\n",
       "      <th>1</th>\n",
       "      <td>0.6268</td>\n",
       "      <td>263.3375</td>\n",
       "    </tr>\n",
       "  </tbody>\n",
       "</table>\n",
       "</div>"
      ],
      "text/plain": [
       "                                MAPE      MAE\n",
       "is_consumption                               \n",
       "0              1182195658499132.7500 149.4250\n",
       "1                             0.6268 263.3375"
      ]
     },
     "execution_count": 145,
     "metadata": {},
     "output_type": "execute_result"
    }
   ],
   "source": [
    "results_.groupby('is_consumption').agg({'MAPE': 'mean', 'MAE': 'mean'}).sort_values(by='MAPE', ascending=False)"
   ]
  },
  {
   "cell_type": "markdown",
   "id": "eeb237bc9bd1d2b8",
   "metadata": {},
   "source": [
    "## Escogemos los cinco mejores modelos"
   ]
  },
  {
   "cell_type": "code",
   "execution_count": 14,
   "id": "5077cef75aad1fd7",
   "metadata": {
    "ExecuteTime": {
     "end_time": "2024-05-01T20:50:02.897079Z",
     "start_time": "2024-05-01T20:50:02.891932Z"
    }
   },
   "outputs": [],
   "source": [
    "best_models = pd.read_csv('results_arima.csv')"
   ]
  },
  {
   "cell_type": "code",
   "execution_count": 18,
   "id": "50ab9835b15a6464",
   "metadata": {
    "ExecuteTime": {
     "end_time": "2024-05-01T20:53:34.692249Z",
     "start_time": "2024-05-01T20:53:34.686795Z"
    }
   },
   "outputs": [],
   "source": [
    "non_com = best_models.loc[best_models.is_consumption == 0 ].sort_values(by='MAPE', ascending=True).head(5)"
   ]
  },
  {
   "cell_type": "code",
   "execution_count": 19,
   "id": "e10b240308fdfdff",
   "metadata": {
    "ExecuteTime": {
     "end_time": "2024-05-01T20:53:36.544876Z",
     "start_time": "2024-05-01T20:53:36.537965Z"
    }
   },
   "outputs": [],
   "source": [
    "is_com = best_models.loc[best_models.is_consumption == 1 ].sort_values(by='MAPE', ascending=True).head(5)"
   ]
  },
  {
   "cell_type": "markdown",
   "id": "7ee274876e3d4da3",
   "metadata": {},
   "source": [
    "## AutoArima para modelos en la capital"
   ]
  },
  {
   "cell_type": "code",
   "execution_count": 14,
   "id": "158a654a3f2b24b3",
   "metadata": {
    "ExecuteTime": {
     "end_time": "2024-05-04T13:39:42.467879Z",
     "start_time": "2024-05-04T13:39:42.460526Z"
    }
   },
   "outputs": [],
   "source": [
    "capital = unique_combinations.loc[unique_combinations.county == 0].reset_index(drop=True)"
   ]
  },
  {
   "cell_type": "code",
   "execution_count": 15,
   "id": "927438f2cba2f82",
   "metadata": {
    "ExecuteTime": {
     "end_time": "2024-05-04T13:39:51.283409Z",
     "start_time": "2024-05-04T13:39:50.875892Z"
    }
   },
   "outputs": [],
   "source": [
    "df_exp = data_model.copy().loc[data_model[cols_to_group].eq(capital.iloc[0]).all(axis=1)]"
   ]
  },
  {
   "cell_type": "code",
   "execution_count": 16,
   "id": "68a60551cb17b87d",
   "metadata": {
    "ExecuteTime": {
     "end_time": "2024-05-04T13:39:52.112582Z",
     "start_time": "2024-05-04T13:39:52.108489Z"
    }
   },
   "outputs": [],
   "source": [
    "is_com_models = df_exp[['county', 'is_business', 'product_type', 'is_consumption']]"
   ]
  },
  {
   "cell_type": "code",
   "execution_count": 17,
   "id": "97c578138d596944",
   "metadata": {
    "ExecuteTime": {
     "end_time": "2024-05-04T13:39:54.547184Z",
     "start_time": "2024-05-04T13:39:54.543875Z"
    }
   },
   "outputs": [],
   "source": [
    "is_com_models.reset_index(inplace=True, drop=True)"
   ]
  },
  {
   "cell_type": "code",
   "execution_count": null,
   "id": "c18beb0b9158f36e",
   "metadata": {
    "ExecuteTime": {
     "start_time": "2024-05-04T13:48:43.060688Z"
    }
   },
   "outputs": [],
   "source": [
    "is_con_res = pd.DataFrame(columns=['county', 'is_business', 'product_type', 'is_consumption', 'Model' , 'MAE', 'AD Fuller(pvalue)', 'Ljung-Box(pvalue)', 'Jarque-Bera(pvalue)'])\n",
    "model_con = {}\n",
    "for row in range(is_com_models.shape[0]):\n",
    "    df_exp = data_model.copy().loc[data_model[cols_to_group].eq(is_com_models.iloc[row]).all(axis=1)]\n",
    "    df_exp['target'].interpolate(method='linear', inplace=True)\n",
    "    train_size = int(0.75 * df_exp.shape[0])\n",
    "    train_data_ext, test_data_ext = df_exp[:train_size], df_exp[train_size:]\n",
    "    ts_exp=darts.TimeSeries.from_dataframe(df=train_data_ext, value_cols='target' , time_col='datetime')\n",
    "    adfuller_test = adfuller(train_data_ext['target'].values)\n",
    "    model = AutoARIMA()\n",
    "    model.fit(ts_exp)\n",
    "    forecast = model.predict(len(test_data_ext))\n",
    "    mape_value = mape(forecast.pd_dataframe()['target'].values, test_data_ext['target'].values)\n",
    "    mae_value = mae(forecast.pd_dataframe()['target'].values, test_data_ext['target'].values)\n",
    "    pd_tm = pd.DataFrame({'county': unique_combinations.iloc[row]['county'],\n",
    "                          'is_business': unique_combinations.iloc[row]['is_business'], \n",
    "                          'product_type': unique_combinations.iloc[row]['product_type'], \n",
    "                          'is_consumption': unique_combinations.iloc[row]['is_consumption'], \n",
    "                          'Model': str(model.model.summary().tables[0][1][1]),\n",
    "                          'MAE': mae_value, \n",
    "                          'AD Fuller (pvalue)': f'{adfuller_test[0]}({adfuller_test[1]})',\n",
    "                          'Ljung-Box(pvalue)': f'{model.model.summary().tables[2][0][1]}({model.model.summary().tables[2][1][1]})',\n",
    "                          'Jarque-Bera(pvalue)': f'{model.model.summary().tables[2][0][3]}({model.model.summary().tables[2][1][3]})'}, index=[row])\n",
    "    is_con_res = pd.concat([is_con_res, pd_tm], ignore_index=False)\n",
    "    model_con[row] = model"
   ]
  },
  {
   "cell_type": "markdown",
   "id": "c22e3436f8e10f59",
   "metadata": {},
   "source": [
    "El test de Ljung-Box es un test de independencia de los residuos. La hipótesis nula es que los residuos son independientes. Si el p-valor es menor que el nivel de significancia, se rechaza la hipótesis nula. Lo que implica que los residuos no son independientes y por lo tanto el modelo no es adecuado.\n",
    " \n",
    "El test de Jarque-Bera es un test de normalidad de los residuos. La hipótesis nula es que los residuos son normalmente distribuidos. Si el p-valor es menor que el nivel de significancia, se rechaza la hipótesis nula, esto implica que los residuos no son normalmente distribuidos y por lo tanto el modelo no es adecuado.\n",
    "\n",
    "Se propone dado que se rechazan estos resultados proponer otros modelos como ARIMA, SARIMA, SARIMAX, etc."
   ]
  },
  {
   "cell_type": "code",
   "execution_count": 56,
   "id": "ce941ea804ad7260",
   "metadata": {
    "ExecuteTime": {
     "end_time": "2024-05-01T22:16:18.037295Z",
     "start_time": "2024-05-01T22:16:16.911482Z"
    }
   },
   "outputs": [],
   "source": [
    "# ljung_box = [f'{(model_con[i].model.summary().tables[2][0][1])}({str(model_con[i].model.summary().tables[2][1][1])})' for i in range(5)]\n",
    "# Jaque_bera = [f'{(model_con[i].model.summary().tables[2][0][3])}({str(model_con[i].model.summary().tables[2][1][3])})' for i in range(5)]\n"
   ]
  },
  {
   "cell_type": "code",
   "execution_count": 57,
   "id": "692edd176ef23a5f",
   "metadata": {
    "ExecuteTime": {
     "end_time": "2024-05-01T22:16:50.429763Z",
     "start_time": "2024-05-01T22:16:50.426304Z"
    }
   },
   "outputs": [],
   "source": [
    "# is_con_res['Ljung-Box(pvalue)'] = ljung_box\n",
    "# is_con_res['Jarque-Bera(pvalue)'] = Jaque_bera"
   ]
  },
  {
   "cell_type": "code",
   "execution_count": null,
   "id": "214c0456788f1224",
   "metadata": {},
   "outputs": [],
   "source": [
    "is_con_res"
   ]
  },
  {
   "cell_type": "code",
   "execution_count": null,
   "id": "dad66e083d9290c7",
   "metadata": {},
   "outputs": [],
   "source": []
  }
 ],
 "metadata": {
  "kernelspec": {
   "display_name": "Python 3 (ipykernel)",
   "language": "python",
   "name": "python3"
  },
  "language_info": {
   "codemirror_mode": {
    "name": "ipython",
    "version": 3
   },
   "file_extension": ".py",
   "mimetype": "text/x-python",
   "name": "python",
   "nbconvert_exporter": "python",
   "pygments_lexer": "ipython3",
   "version": "3.10.12"
  }
 },
 "nbformat": 4,
 "nbformat_minor": 5
}
